{
 "cells": [
  {
   "cell_type": "markdown",
   "metadata": {},
   "source": [
    "## Baichuan2-7B-chat 如何对接Langchain中 langchain.llms.base 的 LLM 模块，完成本地调用接口，并且提供一个快捷搭建向量数据库、Agent等多功能的Langchain应用的部署方案\n",
    "### 显卡信息\n",
    "24G RTX 3090\n",
    "### 升级pip\n",
    "python -m pip install --upgrade pip\n",
    "### 更换清华的源\n",
    "pip config set global.index-url https://pypi.tuna.tsinghua.edu.cn/simple\n",
    "### 安装依赖\n",
    "pip install modelscope==1.9.5\n",
    "pip install transformers==4.35.2\n",
    "pip install streamlit==1.24.0\n",
    "pip install sentencepiece==0.1.99\n",
    "pip install accelerate==0.24.1\n",
    "pip install langchain==0.0.292"
   ]
  },
  {
   "cell_type": "code",
   "execution_count": null,
   "metadata": {},
   "outputs": [],
   "source": [
    "# 将模型下载至本地/hy-tmp/llm目录下，注意模型大小为15 GB，下载模型大概需要10~20分钟\n",
    "import torch\n",
    "from modelscope import snapshot_download, AutoModel, AutoTokenizer\n",
    "import os\n",
    "model_dir = snapshot_download('baichuan-inc/Baichuan2-7B-Chat',cache_dir='/hy-tmp/llm', revision='v1.0.4')"
   ]
  },
  {
   "cell_type": "code",
   "execution_count": 16,
   "metadata": {},
   "outputs": [],
   "source": [
    "# 加载所需的依赖包\n",
    "from langchain.llms.base import LLM\n",
    "from typing import Any, List, Optional\n",
    "from langchain.callbacks.manager import CallbackManagerForLLMRun\n",
    "from transformers import AutoTokenizer, AutoModelForCausalLM, GenerationConfig\n",
    "import torch"
   ]
  },
  {
   "cell_type": "code",
   "execution_count": 17,
   "metadata": {},
   "outputs": [],
   "source": [
    "# 用本地部署的Baichuan2-7B-chat，自定义一个LLM类，将Baichuan2-7B-chat接入到LangChain框架中。\n",
    "# 完成自定义LLM类之后，可以以完全一致的方式调用LangChain的接口，而无需考虑底层模型调用的不一致。\n",
    "# 基于本地部署的Baichuan2-7B-chat自定义 LLM 类并不复杂，我们只需从LangChain.llms.base.LLM 类继承一个子类，并重写构造函数与 _call 函数即可：\n",
    "class baichuan2_LLM(LLM):\n",
    "    # 本地Baichuan自定义LLM 类\n",
    "    tokenizer : AutoTokenizer = None\n",
    "    model: AutoModelForCausalLM = None\n",
    "\n",
    "    def __init__(self, model_path :str):\n",
    "        # model_path: Baichuan-7B-chat模型路径\n",
    "        # 从本地初始化模型\n",
    "        super().__init__()\n",
    "        print(\"从本地加载模型...\")\n",
    "        self.tokenizer = AutoTokenizer.from_pretrained(model_path, trust_remote_code=True)\n",
    "        self.model = AutoModelForCausalLM.from_pretrained(model_path, trust_remote_code=True,torch_dtype=torch.bfloat16,  device_map=\"auto\")\n",
    "        self.model.generation_config = GenerationConfig.from_pretrained(model_path)\n",
    "        self.model = self.model.eval()\n",
    "        print(\"完成本地模型加载\")\n",
    "\n",
    "    def _call(self, prompt : str, stop: Optional[List[str]] = None,\n",
    "                run_manager: Optional[CallbackManagerForLLMRun] = None,\n",
    "                **kwargs: Any):\n",
    "         # 重写调用函数\n",
    "        messages = [\n",
    "            {\"role\": \"user\", \"content\": prompt}\n",
    "        ]\n",
    "         # 重写调用函数\n",
    "        response= self.model.chat(self.tokenizer, messages)\n",
    "        return response\n",
    "        \n",
    "    @property\n",
    "    def _llm_type(self) -> str:\n",
    "        return \"baichuan2_LLM\""
   ]
  },
  {
   "cell_type": "code",
   "execution_count": 18,
   "metadata": {},
   "outputs": [
    {
     "name": "stdout",
     "output_type": "stream",
     "text": [
      "从本地加载模型...\n"
     ]
    },
    {
     "name": "stderr",
     "output_type": "stream",
     "text": [
      "Loading checkpoint shards: 100%|██████████| 2/2 [00:08<00:00,  4.45s/it]\n"
     ]
    },
    {
     "name": "stdout",
     "output_type": "stream",
     "text": [
      "完成本地模型加载\n"
     ]
    },
    {
     "data": {
      "text/plain": [
       "'中国的首都是北京。'"
      ]
     },
     "execution_count": 18,
     "metadata": {},
     "output_type": "execute_result"
    }
   ],
   "source": [
    "llm = baichuan2_LLM('/hy-tmp/llm/baichuan-inc/Baichuan2-7B-Chat')\n",
    "llm('中国的首都是哪里')"
   ]
  },
  {
   "cell_type": "code",
   "execution_count": 12,
   "metadata": {},
   "outputs": [
    {
     "name": "stdout",
     "output_type": "stream",
     "text": [
      "正在从本地加载模型...\n"
     ]
    },
    {
     "name": "stderr",
     "output_type": "stream",
     "text": [
      "Loading checkpoint shards: 100%|██████████| 2/2 [00:10<00:00,  5.05s/it]\n"
     ]
    },
    {
     "name": "stdout",
     "output_type": "stream",
     "text": [
      "完成本地模型的加载\n"
     ]
    },
    {
     "data": {
      "text/plain": [
       "'上海市是中国的一个直辖市，位于长江入海口附近，东临东海，西靠江苏和浙江两省，北界江苏和浙江，南濒杭州湾。上海的地理坐标为北纬31°14′，东经121°29′。'"
      ]
     },
     "execution_count": 12,
     "metadata": {},
     "output_type": "execute_result"
    }
   ],
   "source": [
    "llm = baichuan2_LLM('/hy-tmp/llm/baichuan-inc/Baichuan2-7B-Chat')\n",
    "llm('上海在哪里')"
   ]
  }
 ],
 "metadata": {
  "kernelspec": {
   "display_name": "baichuan",
   "language": "python",
   "name": "python3"
  },
  "language_info": {
   "codemirror_mode": {
    "name": "ipython",
    "version": 3
   },
   "file_extension": ".py",
   "mimetype": "text/x-python",
   "name": "python",
   "nbconvert_exporter": "python",
   "pygments_lexer": "ipython3",
   "version": "3.8.19"
  }
 },
 "nbformat": 4,
 "nbformat_minor": 2
}
