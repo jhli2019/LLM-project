{
 "cells": [
  {
   "cell_type": "markdown",
   "metadata": {},
   "source": [
    "#### 本文选择微调的基础模型是Llama2-chat-13B-Chinese-50W\n",
    "##### 微调数据集：Belle_open_source_0.5M.json\n",
    "原始数据集共有50万条数据，格式：{\"instruction\":\"xxxx\", \"input\":\"\", \"output\":\"xxxx\"}\n",
    "！wget https://huggingface.co/datasets/BelleGroup/train_0.5M_CN/resolve/main/Belle_open_source_0.5M.json\n",
    "链接: https://pan.baidu.com/s/1HrUkq7Wb9dbZSfoz6BB7Wg?pwd=h697 提取码: h697 \n",
    "--来自百度网盘超级会员v4的分享"
   ]
  },
  {
   "cell_type": "code",
   "execution_count": 3,
   "metadata": {},
   "outputs": [],
   "source": [
    "# 数据集处理\n",
    "!python split_json.py\n",
    "# 拼接好的数据集格式：{\"text\":\"### Human: xxxx ### Assistant: xxx\"}"
   ]
  },
  {
   "cell_type": "code",
   "execution_count": null,
   "metadata": {},
   "outputs": [],
   "source": [
    "# 安装依赖包\n",
    "!pip install -q huggingface_hub\n",
    "!pip install -q -U trl transformers accelerate peft\n",
    "!pip install -q -U datasets bitsandbytes einops wandb"
   ]
  },
  {
   "cell_type": "code",
   "execution_count": null,
   "metadata": {},
   "outputs": [],
   "source": [
    "# 初始化wanb\n",
    "import wandb\n",
    "wandb.init()"
   ]
  },
  {
   "cell_type": "code",
   "execution_count": null,
   "metadata": {},
   "outputs": [],
   "source": [
    "# 导入相关包\n",
    "from datasets import load_dataset\n",
    "import torch,einops\n",
    "from transformers import AutoModelForCausalLM, BitsAndBytesConfig, AutoTokenizer, TrainingArguments\n",
    "from peft import LoraConfig\n",
    "from trl import SFTTrainer"
   ]
  },
  {
   "cell_type": "code",
   "execution_count": null,
   "metadata": {},
   "outputs": [],
   "source": [
    "# 加载拼接好的数据集\n",
    "dataset = load_dataset(\"json\",data_files=\"./Belle_open_source_0.5M_changed_test.json\",split=\"train\")"
   ]
  },
  {
   "cell_type": "code",
   "execution_count": null,
   "metadata": {},
   "outputs": [],
   "source": [
    "# 配置模型\n",
    "base_model_name =\"./Llama2-chat-13B-Chinese-50W\"\n",
    "bnb_config = BitsAndBytesConfig(\n",
    "    load_in_4bit=True,#在4bit上，进行量化\n",
    "    bnb_4bit_use_double_quant=True,# 嵌套量化，每个参数可以多节省0.4位\n",
    "    bnb_4bit_quant_type=\"nf4\",#NF4（normalized float）或纯FP4量化 博客说推荐NF4\n",
    "    bnb_4bit_compute_dtype=torch.float16,\n",
    ")"
   ]
  },
  {
   "cell_type": "code",
   "execution_count": null,
   "metadata": {},
   "outputs": [],
   "source": [
    "# GPU\n",
    "device_map = {\"\": 0}\n",
    "#有多个gpu时，为：device_map = {\"\": [0,1,2,3……]}"
   ]
  },
  {
   "cell_type": "code",
   "execution_count": null,
   "metadata": {},
   "outputs": [],
   "source": [
    "# 加载本地模型\n",
    "base_model = AutoModelForCausalLM.from_pretrained(\n",
    "    base_model_name,#本地模型名称\n",
    "    quantization_config=bnb_config,#上面本地模型的配置\n",
    "    device_map=device_map,#使用GPU的编号\n",
    "    trust_remote_code=True,\n",
    "    use_auth_token=True\n",
    ")\n",
    "base_model.config.use_cache = False\n",
    "base_model.config.pretraining_tp = 1"
   ]
  },
  {
   "cell_type": "code",
   "execution_count": null,
   "metadata": {},
   "outputs": [],
   "source": [
    "# 配置QLora\n",
    "peft_config = LoraConfig(\n",
    "    lora_alpha=16,\n",
    "    lora_dropout=0.1,\n",
    "    r=64,\n",
    "    bias=\"none\",\n",
    "    task_type=\"CAUSAL_LM\",\n",
    ")"
   ]
  },
  {
   "cell_type": "code",
   "execution_count": null,
   "metadata": {},
   "outputs": [],
   "source": [
    "# 对本地模型，把长文本拆成最小的单元词（即token）\n",
    "tokenizer = AutoTokenizer.from_pretrained(base_model_name, trust_remote_code=True)\n",
    "tokenizer.pad_token = tokenizer.eos_token"
   ]
  },
  {
   "cell_type": "code",
   "execution_count": null,
   "metadata": {},
   "outputs": [],
   "source": [
    "# 训练参数设置\n",
    "output_dir = \"./results\"\n",
    "training_args = TrainingArguments(\n",
    "    report_to=\"wandb\",\n",
    "    output_dir=output_dir,#训练后输出目录\n",
    "    per_device_train_batch_size=4,#每个GPU的批处理数据量\n",
    "    gradient_accumulation_steps=4,#在执行反向传播/更新过程之前，要累积其梯度的更新步骤数\n",
    "    learning_rate=2e-4,#超参、初始学习率。太大模型不稳定，太小则模型不能收敛\n",
    "    logging_steps=10,#两个日志记录之间的更新步骤数\n",
    "    max_steps=100#要执行的训练步骤总数\n",
    ")\n",
    "max_seq_length = 512\n",
    "#TrainingArguments 的参数详解：https://blog.csdn.net/qq_33293040/article/details/117376382\n",
    " \n",
    "trainer = SFTTrainer(\n",
    "    model=base_model,\n",
    "    train_dataset=dataset,\n",
    "    peft_config=peft_config,\n",
    "    dataset_text_field=\"text\",\n",
    "    max_seq_length=max_seq_length,\n",
    "    tokenizer=tokenizer,\n",
    "    args=training_args,\n",
    ")"
   ]
  },
  {
   "cell_type": "code",
   "execution_count": null,
   "metadata": {},
   "outputs": [],
   "source": [
    "# 开始微调训练\n",
    "trainer.train()"
   ]
  },
  {
   "cell_type": "code",
   "execution_count": null,
   "metadata": {},
   "outputs": [],
   "source": [
    "# 保存训练好的模型\n",
    "import os\n",
    "output_dir = os.path.join(output_dir, \"final_checkpoint\")\n",
    "trainer.model.save_pretrained(output_dir)"
   ]
  },
  {
   "cell_type": "code",
   "execution_count": null,
   "metadata": {},
   "outputs": [],
   "source": [
    "# 模型合并\n",
    "！python model_hebing.py"
   ]
  }
 ],
 "metadata": {
  "kernelspec": {
   "display_name": "base",
   "language": "python",
   "name": "python3"
  },
  "language_info": {
   "codemirror_mode": {
    "name": "ipython",
    "version": 3
   },
   "file_extension": ".py",
   "mimetype": "text/x-python",
   "name": "python",
   "nbconvert_exporter": "python",
   "pygments_lexer": "ipython3",
   "version": "3.8.10"
  }
 },
 "nbformat": 4,
 "nbformat_minor": 2
}
